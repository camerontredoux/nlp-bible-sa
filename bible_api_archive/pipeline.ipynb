{
 "cells": [
  {
   "cell_type": "code",
   "execution_count": 142,
   "metadata": {},
   "outputs": [
    {
     "data": {
      "text/plain": [
       "True"
      ]
     },
     "execution_count": 142,
     "metadata": {},
     "output_type": "execute_result"
    }
   ],
   "source": [
    "import requests\n",
    "import os\n",
    "from dotenv import load_dotenv\n",
    "\n",
    "load_dotenv(override=True)"
   ]
  },
  {
   "cell_type": "code",
   "execution_count": 144,
   "metadata": {},
   "outputs": [],
   "source": [
    "API_KEY = os.environ.get(\"API_KEY\")"
   ]
  },
  {
   "cell_type": "code",
   "execution_count": 130,
   "metadata": {},
   "outputs": [],
   "source": [
    "bibleVersionID = {\n",
    "    \"ASV\": \"06125adad2d5898a-01\",\n",
    "    \"WEB\": \"72f4e6dc683324df-01\",\n",
    "    \"FBV\": \"65eec8e0b60e656b-01\",\n",
    "    \"WMB\": \"f72b840c855f362c-04\"\n",
    "}\n",
    "\n",
    "books_res = requests.get(\n",
    "    url=f\"https://api.scripture.api.bible/v1/bibles/{bibleVersionID['WMB']}/books\",\n",
    "    headers={\n",
    "        \"api-key\": API_KEY,\n",
    "        \"Accept-Encoding\": \"application/json\",\n",
    "    },\n",
    ")"
   ]
  },
  {
   "cell_type": "code",
   "execution_count": 131,
   "metadata": {},
   "outputs": [
    {
     "name": "stdout",
     "output_type": "stream",
     "text": [
      "{'statusCode': 403, 'error': 'Forbidden', 'message': 'You are not authorized to access that bible or bibles'}\n"
     ]
    }
   ],
   "source": [
    "print(books_res.json())"
   ]
  },
  {
   "cell_type": "code",
   "execution_count": 122,
   "metadata": {},
   "outputs": [],
   "source": [
    "books_json = books_res.json()\n",
    "books = []\n",
    "for book in books_json[\"data\"]:\n",
    "    books.append(book[\"id\"])"
   ]
  },
  {
   "cell_type": "code",
   "execution_count": 123,
   "metadata": {},
   "outputs": [
    {
     "data": {
      "text/plain": [
       "['GEN', 'EXO', 'LEV', 'NUM', 'DEU']"
      ]
     },
     "execution_count": 123,
     "metadata": {},
     "output_type": "execute_result"
    }
   ],
   "source": [
    "books[:5]"
   ]
  },
  {
   "cell_type": "code",
   "execution_count": 124,
   "metadata": {},
   "outputs": [],
   "source": [
    "chapters = []\n",
    "for book in books:\n",
    "    chapters_res = requests.get(\n",
    "        url=f\"https://api.scripture.api.bible/v1/bibles/{bibleVersionID['WMB']}/books/{book}/chapters\",\n",
    "        headers={\n",
    "            \"api-key\": API_KEY,\n",
    "            \"Accept-Encoding\": \"application/json\",\n",
    "        },\n",
    "    )\n",
    "\n",
    "    for chapter in chapters_res.json()[\"data\"]:\n",
    "        chapters.append(chapter[\"id\"])"
   ]
  },
  {
   "cell_type": "code",
   "execution_count": 40,
   "metadata": {},
   "outputs": [],
   "source": [
    "# verse_ids = []\n",
    "# for chapter in chapters:\n",
    "#     verses_res = requests.get(\n",
    "#         url=f\"https://api.scripture.api.bible/v1/bibles/{bibleVersionID}/chapters/{chapter}/verses\",\n",
    "#         headers={\n",
    "#             \"api-key\": API_KEY,\n",
    "#             \"Accept-Encoding\": \"application/json\",\n",
    "#         },\n",
    "#     )\n",
    "\n",
    "#     for verse in verses_res.json()[\"data\"]:\n",
    "#         verse_ids.append(verse[\"id\"])"
   ]
  },
  {
   "cell_type": "code",
   "execution_count": 52,
   "metadata": {},
   "outputs": [],
   "source": [
    "# verse_ids_no_intro = filter(lambda x: \"intro\" not in x, verse_ids)\n",
    "# len(list(verse_ids_no_intro))"
   ]
  },
  {
   "cell_type": "code",
   "execution_count": 125,
   "metadata": {},
   "outputs": [],
   "source": [
    "chapters_no_intro = filter(lambda x: \"intro\" not in x, chapters)\n",
    "chapters_no_intro = list(chapters_no_intro)"
   ]
  },
  {
   "cell_type": "code",
   "execution_count": 126,
   "metadata": {},
   "outputs": [
    {
     "data": {
      "text/plain": [
       "(['GEN.1',\n",
       "  'GEN.2',\n",
       "  'GEN.3',\n",
       "  'GEN.4',\n",
       "  'GEN.5',\n",
       "  'GEN.6',\n",
       "  'GEN.7',\n",
       "  'GEN.8',\n",
       "  'GEN.9',\n",
       "  'GEN.10'],\n",
       " 1189)"
      ]
     },
     "execution_count": 126,
     "metadata": {},
     "output_type": "execute_result"
    }
   ],
   "source": [
    "chapters_no_intro[:10], len(chapters_no_intro)"
   ]
  },
  {
   "cell_type": "code",
   "execution_count": 94,
   "metadata": {},
   "outputs": [],
   "source": [
    "import pandas"
   ]
  },
  {
   "cell_type": "code",
   "execution_count": 146,
   "metadata": {},
   "outputs": [],
   "source": [
    "for idx, chapter in enumerate(chapters_no_intro[822:]):\n",
    "    chapter_verses_res = requests.get(\n",
    "        url=f\"https://api.scripture.api.bible/v1/bibles/{bibleVersionID['WMB']}/chapters/{chapter}\",\n",
    "        headers={\n",
    "            \"api-key\": API_KEY,\n",
    "            \"Accept-Encoding\": \"application/json\",\n",
    "        },\n",
    "        params={\n",
    "            \"content-type\": \"text\",\n",
    "            \"include-notes\": \"false\",\n",
    "            \"include-titles\": \"false\",\n",
    "        },\n",
    "    )\n",
    "\n",
    "    df = pandas.DataFrame(\n",
    "        {\n",
    "            \"index\": idx+822,\n",
    "            \"chapter\": chapter,\n",
    "            \"verses\": chapter_verses_res.json()[\"data\"][\"content\"],\n",
    "        },\n",
    "        index=[0],\n",
    "    )\n",
    "    df.to_csv(\"data/wmb/wmb.csv\", mode=\"a\", header=False, index=False)"
   ]
  },
  {
   "cell_type": "code",
   "execution_count": 42,
   "metadata": {},
   "outputs": [],
   "source": [
    "import re"
   ]
  },
  {
   "cell_type": "code",
   "execution_count": 147,
   "metadata": {},
   "outputs": [],
   "source": [
    "df = pandas.read_csv(\"data/wmb/wmb.csv\", index_col=0)"
   ]
  },
  {
   "cell_type": "code",
   "execution_count": 148,
   "metadata": {},
   "outputs": [],
   "source": [
    "chapter_verses = []\n",
    "for idx, verse in enumerate(df[\"verses\"]):\n",
    "    verse_clean = re.split(r\"\\s*\\[\\d+\\]\\s*\", verse.strip())\n",
    "    verse_clean = [item for item in verse_clean if item]\n",
    "    for idx_verse, verse in enumerate(verse_clean):\n",
    "        chapter_verses.append(\n",
    "            {\"citation\": f\"{df['chapter'][idx]}.{idx_verse+1}\", \"verse\": verse}\n",
    "        )"
   ]
  },
  {
   "cell_type": "code",
   "execution_count": 149,
   "metadata": {},
   "outputs": [],
   "source": [
    "df_verses = pandas.DataFrame(chapter_verses)\n",
    "df_verses.to_csv(\"data/wmb/wmb_clean.csv\", index=False)"
   ]
  },
  {
   "cell_type": "code",
   "execution_count": 150,
   "metadata": {},
   "outputs": [
    {
     "data": {
      "text/html": [
       "<div>\n",
       "<style scoped>\n",
       "    .dataframe tbody tr th:only-of-type {\n",
       "        vertical-align: middle;\n",
       "    }\n",
       "\n",
       "    .dataframe tbody tr th {\n",
       "        vertical-align: top;\n",
       "    }\n",
       "\n",
       "    .dataframe thead th {\n",
       "        text-align: right;\n",
       "    }\n",
       "</style>\n",
       "<table border=\"1\" class=\"dataframe\">\n",
       "  <thead>\n",
       "    <tr style=\"text-align: right;\">\n",
       "      <th></th>\n",
       "      <th>citation</th>\n",
       "      <th>verse</th>\n",
       "    </tr>\n",
       "  </thead>\n",
       "  <tbody>\n",
       "    <tr>\n",
       "      <th>0</th>\n",
       "      <td>GEN.1.1</td>\n",
       "      <td>In the beginning, God created the heavens and ...</td>\n",
       "    </tr>\n",
       "    <tr>\n",
       "      <th>1</th>\n",
       "      <td>GEN.1.2</td>\n",
       "      <td>The earth was formless and empty. Darkness was...</td>\n",
       "    </tr>\n",
       "    <tr>\n",
       "      <th>2</th>\n",
       "      <td>GEN.1.3</td>\n",
       "      <td>God said, “Let there be light,” and there was ...</td>\n",
       "    </tr>\n",
       "    <tr>\n",
       "      <th>3</th>\n",
       "      <td>GEN.1.4</td>\n",
       "      <td>God saw the light, and saw that it was good. G...</td>\n",
       "    </tr>\n",
       "    <tr>\n",
       "      <th>4</th>\n",
       "      <td>GEN.1.5</td>\n",
       "      <td>God called the light “day”, and the darkness h...</td>\n",
       "    </tr>\n",
       "    <tr>\n",
       "      <th>...</th>\n",
       "      <td>...</td>\n",
       "      <td>...</td>\n",
       "    </tr>\n",
       "    <tr>\n",
       "      <th>31093</th>\n",
       "      <td>REV.22.17</td>\n",
       "      <td>The Spirit and the bride say, “Come!” He who h...</td>\n",
       "    </tr>\n",
       "    <tr>\n",
       "      <th>31094</th>\n",
       "      <td>REV.22.18</td>\n",
       "      <td>I testify to everyone who hears the words of t...</td>\n",
       "    </tr>\n",
       "    <tr>\n",
       "      <th>31095</th>\n",
       "      <td>REV.22.19</td>\n",
       "      <td>If anyone takes away from the words of the boo...</td>\n",
       "    </tr>\n",
       "    <tr>\n",
       "      <th>31096</th>\n",
       "      <td>REV.22.20</td>\n",
       "      <td>He who testifies these things says, “Yes, I am...</td>\n",
       "    </tr>\n",
       "    <tr>\n",
       "      <th>31097</th>\n",
       "      <td>REV.22.21</td>\n",
       "      <td>The grace of the Lord Yeshua the Messiah be wi...</td>\n",
       "    </tr>\n",
       "  </tbody>\n",
       "</table>\n",
       "<p>31098 rows × 2 columns</p>\n",
       "</div>"
      ],
      "text/plain": [
       "        citation                                              verse\n",
       "0        GEN.1.1  In the beginning, God created the heavens and ...\n",
       "1        GEN.1.2  The earth was formless and empty. Darkness was...\n",
       "2        GEN.1.3  God said, “Let there be light,” and there was ...\n",
       "3        GEN.1.4  God saw the light, and saw that it was good. G...\n",
       "4        GEN.1.5  God called the light “day”, and the darkness h...\n",
       "...          ...                                                ...\n",
       "31093  REV.22.17  The Spirit and the bride say, “Come!” He who h...\n",
       "31094  REV.22.18  I testify to everyone who hears the words of t...\n",
       "31095  REV.22.19  If anyone takes away from the words of the boo...\n",
       "31096  REV.22.20  He who testifies these things says, “Yes, I am...\n",
       "31097  REV.22.21  The grace of the Lord Yeshua the Messiah be wi...\n",
       "\n",
       "[31098 rows x 2 columns]"
      ]
     },
     "execution_count": 150,
     "metadata": {},
     "output_type": "execute_result"
    }
   ],
   "source": [
    "df_verses"
   ]
  },
  {
   "cell_type": "code",
   "execution_count": 157,
   "metadata": {},
   "outputs": [],
   "source": [
    "web = pandas.read_csv(\"data/web/web_clean_final.csv\")\n",
    "asv = pandas.read_csv(\"data/asv/asv_clean_final.csv\")\n",
    "kjv = pandas.read_csv(\"data/kjv/kjv_clean_final.csv\")\n",
    "fbv = pandas.read_csv(\"data/fbv/fbv_clean_final.csv\")\n",
    "wmb = pandas.read_csv(\"data/wmb/wmb_clean_final.csv\")"
   ]
  },
  {
   "cell_type": "code",
   "execution_count": 158,
   "metadata": {},
   "outputs": [
    {
     "data": {
      "text/plain": [
       "(37499, 31087, 31102, 31088, 31098)"
      ]
     },
     "execution_count": 158,
     "metadata": {},
     "output_type": "execute_result"
    }
   ],
   "source": [
    "len(web), len(asv), len(kjv), len(fbv), len(wmb)"
   ]
  },
  {
   "cell_type": "code",
   "execution_count": null,
   "metadata": {},
   "outputs": [],
   "source": []
  }
 ],
 "metadata": {
  "kernelspec": {
   "display_name": "Python 3",
   "language": "python",
   "name": "python3"
  },
  "language_info": {
   "codemirror_mode": {
    "name": "ipython",
    "version": 3
   },
   "file_extension": ".py",
   "mimetype": "text/x-python",
   "name": "python",
   "nbconvert_exporter": "python",
   "pygments_lexer": "ipython3",
   "version": "3.10.1"
  }
 },
 "nbformat": 4,
 "nbformat_minor": 2
}
