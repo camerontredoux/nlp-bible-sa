{
 "cells": [
  {
   "cell_type": "code",
   "execution_count": 3,
   "metadata": {},
   "outputs": [
    {
     "data": {
      "text/plain": [
       "True"
      ]
     },
     "execution_count": 3,
     "metadata": {},
     "output_type": "execute_result"
    }
   ],
   "source": [
    "import requests\n",
    "import os\n",
    "from dotenv import load_dotenv\n",
    "\n",
    "load_dotenv()"
   ]
  },
  {
   "cell_type": "code",
   "execution_count": 6,
   "metadata": {},
   "outputs": [],
   "source": [
    "API_KEY = os.environ.get(\"API_KEY\")"
   ]
  },
  {
   "cell_type": "code",
   "execution_count": 125,
   "metadata": {},
   "outputs": [],
   "source": [
    "bibleVersionID = \"de4e12af7f28f599-02\"\n",
    "\n",
    "books_res = requests.get(\n",
    "    url=f\"https://api.scripture.api.bible/v1/bibles/{bibleVersionID}/books\",\n",
    "    headers={\n",
    "        \"api-key\": API_KEY,\n",
    "        \"Accept-Encoding\": \"application/json\",\n",
    "    },\n",
    ")"
   ]
  },
  {
   "cell_type": "code",
   "execution_count": 128,
   "metadata": {},
   "outputs": [],
   "source": [
    "books_json = books_res.json()\n",
    "books = []\n",
    "for book in books_json[\"data\"]:\n",
    "    books.append(book[\"id\"])"
   ]
  },
  {
   "cell_type": "code",
   "execution_count": 155,
   "metadata": {},
   "outputs": [],
   "source": [
    "chapters = []\n",
    "for book in books:\n",
    "    chapters_res = requests.get(\n",
    "        url=f\"https://api.scripture.api.bible/v1/bibles/{bibleVersionID}/books/{book}/chapters\",\n",
    "        headers={\n",
    "            \"api-key\": API_KEY,\n",
    "            \"Accept-Encoding\": \"application/json\",\n",
    "        },\n",
    "    )\n",
    "\n",
    "    for chapter in chapters_res.json()[\"data\"]:\n",
    "        chapters.append(chapter[\"id\"])"
   ]
  },
  {
   "cell_type": "code",
   "execution_count": 165,
   "metadata": {},
   "outputs": [],
   "source": [
    "verse_ids = []\n",
    "for chapter in chapters:\n",
    "    verses_res = requests.get(\n",
    "        url=f\"https://api.scripture.api.bible/v1/bibles/{bibleVersionID}/chapters/{chapter}/verses\",\n",
    "        headers={\n",
    "            \"api-key\": API_KEY,\n",
    "            \"Accept-Encoding\": \"application/json\",\n",
    "        },\n",
    "    )\n",
    "\n",
    "    for verse in verses_res.json()[\"data\"]:\n",
    "        verse_ids.append(verse[\"id\"])"
   ]
  },
  {
   "cell_type": "code",
   "execution_count": 175,
   "metadata": {},
   "outputs": [
    {
     "data": {
      "text/plain": [
       "31102"
      ]
     },
     "execution_count": 175,
     "metadata": {},
     "output_type": "execute_result"
    }
   ],
   "source": [
    "verse_ids_no_intro = filter(lambda x: \"intro\" not in x, verse_ids)\n",
    "len(list(verse_ids_no_intro))"
   ]
  },
  {
   "cell_type": "code",
   "execution_count": 280,
   "metadata": {},
   "outputs": [],
   "source": [
    "chapters_no_intro = filter(lambda x: \"intro\" not in x, chapters)\n",
    "chapters_no_intro = list(chapters_no_intro)"
   ]
  },
  {
   "cell_type": "code",
   "execution_count": 232,
   "metadata": {},
   "outputs": [],
   "source": [
    "import pandas"
   ]
  },
  {
   "cell_type": "code",
   "execution_count": 255,
   "metadata": {},
   "outputs": [],
   "source": [
    "for idx, chapter in enumerate(chapters_no_intro):\n",
    "    chapter_verses_res = requests.get(\n",
    "        url=f\"https://api.scripture.api.bible/v1/bibles/{bibleVersionID}/chapters/{chapter}\",\n",
    "        headers={\n",
    "            \"api-key\": API_KEY,\n",
    "            \"Accept-Encoding\": \"application/json\",\n",
    "        },\n",
    "        params={\n",
    "            \"content-type\": \"text\",\n",
    "            \"include-notes\": \"false\",\n",
    "            \"include-titles\": \"false\",\n",
    "        },\n",
    "    )\n",
    "\n",
    "    df = pandas.DataFrame(\n",
    "        {\n",
    "            \"index\": idx,\n",
    "            \"chapter\": chapter,\n",
    "            \"verses\": chapter_verses_res.json()[\"data\"][\"content\"],\n",
    "        },\n",
    "        index=[0],\n",
    "    )\n",
    "    df.to_csv(\"bible_verses.csv\", mode=\"a\", header=False, index=False)"
   ]
  },
  {
   "cell_type": "code",
   "execution_count": 200,
   "metadata": {},
   "outputs": [],
   "source": [
    "import re"
   ]
  },
  {
   "cell_type": "code",
   "execution_count": 273,
   "metadata": {},
   "outputs": [],
   "source": [
    "df = pandas.read_csv(\"bible_verses.csv\", index_col=0)"
   ]
  },
  {
   "cell_type": "code",
   "execution_count": 298,
   "metadata": {},
   "outputs": [],
   "source": [
    "chapter_verses = []\n",
    "for idx, verse in enumerate(df[\"verses\"]):\n",
    "    verse_clean = re.split(r\"\\s*\\[\\d+\\]\\s*\", verse.strip())\n",
    "    verse_clean = [item for item in verse_clean if item]\n",
    "    for idx_verse, verse in enumerate(verse_clean):\n",
    "        chapter_verses.append(\n",
    "            {\"citation\": f\"{df['chapter'][idx]}.{idx_verse+1}\", \"verse\": verse}\n",
    "        )"
   ]
  },
  {
   "cell_type": "code",
   "execution_count": 293,
   "metadata": {},
   "outputs": [],
   "source": [
    "df_verses = pandas.DataFrame(chapter_verses)\n",
    "df_verses.to_csv(\"bible_verses_clean.csv\", index=False)"
   ]
  }
 ],
 "metadata": {
  "kernelspec": {
   "display_name": "Python 3",
   "language": "python",
   "name": "python3"
  },
  "language_info": {
   "codemirror_mode": {
    "name": "ipython",
    "version": 3
   },
   "file_extension": ".py",
   "mimetype": "text/x-python",
   "name": "python",
   "nbconvert_exporter": "python",
   "pygments_lexer": "ipython3",
   "version": "3.11.5"
  }
 },
 "nbformat": 4,
 "nbformat_minor": 2
}
