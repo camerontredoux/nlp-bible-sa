{
 "cells": [
  {
   "cell_type": "code",
   "execution_count": 2,
   "metadata": {},
   "outputs": [],
   "source": [
    "import pandas as pd\n",
    "import numpy as np"
   ]
  },
  {
   "cell_type": "code",
   "execution_count": 3,
   "metadata": {},
   "outputs": [
    {
     "data": {
      "text/html": [
       "<div>\n",
       "<style scoped>\n",
       "    .dataframe tbody tr th:only-of-type {\n",
       "        vertical-align: middle;\n",
       "    }\n",
       "\n",
       "    .dataframe tbody tr th {\n",
       "        vertical-align: top;\n",
       "    }\n",
       "\n",
       "    .dataframe thead th {\n",
       "        text-align: right;\n",
       "    }\n",
       "</style>\n",
       "<table border=\"1\" class=\"dataframe\">\n",
       "  <thead>\n",
       "    <tr style=\"text-align: right;\">\n",
       "      <th></th>\n",
       "      <th>bible</th>\n",
       "      <th>chunk</th>\n",
       "      <th>olivia</th>\n",
       "      <th>river</th>\n",
       "      <th>gerardo</th>\n",
       "      <th>nick</th>\n",
       "      <th>cameron</th>\n",
       "    </tr>\n",
       "  </thead>\n",
       "  <tbody>\n",
       "    <tr>\n",
       "      <th>0</th>\n",
       "      <td>asv</td>\n",
       "      <td>2556</td>\n",
       "      <td>3</td>\n",
       "      <td>2</td>\n",
       "      <td>1</td>\n",
       "      <td>3</td>\n",
       "      <td>3</td>\n",
       "    </tr>\n",
       "    <tr>\n",
       "      <th>1</th>\n",
       "      <td>asv</td>\n",
       "      <td>10127</td>\n",
       "      <td>3</td>\n",
       "      <td>3</td>\n",
       "      <td>3</td>\n",
       "      <td>3</td>\n",
       "      <td>3</td>\n",
       "    </tr>\n",
       "    <tr>\n",
       "      <th>2</th>\n",
       "      <td>asv</td>\n",
       "      <td>9900</td>\n",
       "      <td>2</td>\n",
       "      <td>2</td>\n",
       "      <td>1</td>\n",
       "      <td>2</td>\n",
       "      <td>2</td>\n",
       "    </tr>\n",
       "    <tr>\n",
       "      <th>3</th>\n",
       "      <td>asv</td>\n",
       "      <td>3951</td>\n",
       "      <td>2</td>\n",
       "      <td>2</td>\n",
       "      <td>3</td>\n",
       "      <td>2</td>\n",
       "      <td>2</td>\n",
       "    </tr>\n",
       "    <tr>\n",
       "      <th>4</th>\n",
       "      <td>asv</td>\n",
       "      <td>3840</td>\n",
       "      <td>3</td>\n",
       "      <td>3</td>\n",
       "      <td>3</td>\n",
       "      <td>3</td>\n",
       "      <td>1</td>\n",
       "    </tr>\n",
       "    <tr>\n",
       "      <th>...</th>\n",
       "      <td>...</td>\n",
       "      <td>...</td>\n",
       "      <td>...</td>\n",
       "      <td>...</td>\n",
       "      <td>...</td>\n",
       "      <td>...</td>\n",
       "      <td>...</td>\n",
       "    </tr>\n",
       "    <tr>\n",
       "      <th>85</th>\n",
       "      <td>wmb</td>\n",
       "      <td>4236</td>\n",
       "      <td>3</td>\n",
       "      <td>3</td>\n",
       "      <td>1</td>\n",
       "      <td>3</td>\n",
       "      <td>3</td>\n",
       "    </tr>\n",
       "    <tr>\n",
       "      <th>86</th>\n",
       "      <td>wmb</td>\n",
       "      <td>5307</td>\n",
       "      <td>3</td>\n",
       "      <td>3</td>\n",
       "      <td>3</td>\n",
       "      <td>3</td>\n",
       "      <td>3</td>\n",
       "    </tr>\n",
       "    <tr>\n",
       "      <th>87</th>\n",
       "      <td>wmb</td>\n",
       "      <td>9942</td>\n",
       "      <td>3</td>\n",
       "      <td>2</td>\n",
       "      <td>2</td>\n",
       "      <td>1</td>\n",
       "      <td>1</td>\n",
       "    </tr>\n",
       "    <tr>\n",
       "      <th>88</th>\n",
       "      <td>wmb</td>\n",
       "      <td>4226</td>\n",
       "      <td>3</td>\n",
       "      <td>3</td>\n",
       "      <td>1</td>\n",
       "      <td>3</td>\n",
       "      <td>3</td>\n",
       "    </tr>\n",
       "    <tr>\n",
       "      <th>89</th>\n",
       "      <td>wmb</td>\n",
       "      <td>9476</td>\n",
       "      <td>1</td>\n",
       "      <td>2</td>\n",
       "      <td>1</td>\n",
       "      <td>1</td>\n",
       "      <td>2</td>\n",
       "    </tr>\n",
       "  </tbody>\n",
       "</table>\n",
       "<p>90 rows × 7 columns</p>\n",
       "</div>"
      ],
      "text/plain": [
       "   bible  chunk  olivia  river  gerardo  nick  cameron\n",
       "0    asv   2556       3      2        1     3        3\n",
       "1    asv  10127       3      3        3     3        3\n",
       "2    asv   9900       2      2        1     2        2\n",
       "3    asv   3951       2      2        3     2        2\n",
       "4    asv   3840       3      3        3     3        1\n",
       "..   ...    ...     ...    ...      ...   ...      ...\n",
       "85   wmb   4236       3      3        1     3        3\n",
       "86   wmb   5307       3      3        3     3        3\n",
       "87   wmb   9942       3      2        2     1        1\n",
       "88   wmb   4226       3      3        1     3        3\n",
       "89   wmb   9476       1      2        1     1        2\n",
       "\n",
       "[90 rows x 7 columns]"
      ]
     },
     "execution_count": 3,
     "metadata": {},
     "output_type": "execute_result"
    }
   ],
   "source": [
    "df = pd.read_csv(\"annotator_labels.csv\")\n",
    "df"
   ]
  },
  {
   "cell_type": "code",
   "execution_count": 40,
   "metadata": {},
   "outputs": [],
   "source": [
    "bibles = {\n",
    "    \"asv\": \"../model_annotation/asv_out.csv\",\n",
    "    \"fbv\": \"../model_annotation/fbv_out.csv\",\n",
    "    \"kjv\": \"../model_annotation/kjv_out.csv\",\n",
    "    \"web\": \"../model_annotation/web_out.csv\",\n",
    "    \"wmb\": \"../model_annotation/wmb_out.csv\",\n",
    "}"
   ]
  },
  {
   "cell_type": "code",
   "execution_count": 48,
   "metadata": {},
   "outputs": [],
   "source": [
    "df_new = df.copy(deep=True)"
   ]
  },
  {
   "cell_type": "code",
   "execution_count": 63,
   "metadata": {},
   "outputs": [],
   "source": [
    "for bible in bibles:\n",
    "    df_bible = df[df[\"bible\"] == bible]\n",
    "    bible_asv = pd.read_csv(bibles[bible])\n",
    "    for idx, row in df_bible.iterrows():\n",
    "        chunk = row[\"chunk\"]\n",
    "        bible_sentiment = bible_asv[bible_asv[\"chunk\"] == chunk][\"sentiment\"].values[0]\n",
    "        bible_confidence = bible_asv[bible_asv[\"chunk\"] == chunk][\"confidence\"].values[\n",
    "            0\n",
    "        ]\n",
    "        bible_chunk = bible_asv[bible_asv[\"chunk\"] == chunk][\"chunk\"].values[0]\n",
    "        df_new.loc[\n",
    "            (df[\"bible\"] == bible) & (df[\"chunk\"] == chunk),\n",
    "            \"bible_sentiment\",\n",
    "        ] = bible_sentiment"
   ]
  },
  {
   "cell_type": "code",
   "execution_count": 64,
   "metadata": {},
   "outputs": [],
   "source": [
    "df_new[\"bible_sentiment\"] = df_new[\"bible_sentiment\"].astype(\"int64\")"
   ]
  },
  {
   "cell_type": "code",
   "execution_count": 84,
   "metadata": {},
   "outputs": [],
   "source": [
    "df_new.drop(columns=[\"annotator_sentiment_avg\"], inplace=True)"
   ]
  },
  {
   "cell_type": "code",
   "execution_count": 85,
   "metadata": {},
   "outputs": [],
   "source": [
    "df_new[\"annotator_sentiment_mode\"] = df_new.iloc[:, 2:-1].apply(\n",
    "    lambda x: x.mode()[0], axis=1\n",
    ")"
   ]
  },
  {
   "cell_type": "code",
   "execution_count": 87,
   "metadata": {},
   "outputs": [
    {
     "name": "stdout",
     "output_type": "stream",
     "text": [
      "0.6666666666666666\n"
     ]
    }
   ],
   "source": [
    "from sklearn.metrics import accuracy_score\n",
    "\n",
    "print(accuracy_score(df_new[\"bible_sentiment\"], df_new[\"annotator_sentiment_mode\"]))"
   ]
  },
  {
   "cell_type": "code",
   "execution_count": 88,
   "metadata": {},
   "outputs": [
    {
     "name": "stdout",
     "output_type": "stream",
     "text": [
      "0.5\n",
      "0.8\n",
      "0.72\n",
      "0.5\n",
      "0.6\n"
     ]
    }
   ],
   "source": [
    "for bible in bibles:\n",
    "    print(\n",
    "        accuracy_score(\n",
    "            df_new[df_new[\"bible\"] == bible][\"bible_sentiment\"],\n",
    "            df_new[df_new[\"bible\"] == bible][\"annotator_sentiment_mode\"],\n",
    "        )\n",
    "    )"
   ]
  },
  {
   "cell_type": "code",
   "execution_count": 97,
   "metadata": {},
   "outputs": [
    {
     "data": {
      "image/png": "[encoded data removed]",
      "text/plain": [
       "<Figure size 640x480 with 1 Axes>"
      ]
     },
     "metadata": {},
     "output_type": "display_data"
    }
   ],
   "source": [
    "# Plot the accuracy score for each bible in a bar graph\n",
    "import matplotlib.pyplot as plt\n",
    "\n",
    "bible_accuracies = []\n",
    "for bible in bibles:\n",
    "    bible_accuracies.append(\n",
    "        accuracy_score(\n",
    "            df_new[df_new[\"bible\"] == bible][\"bible_sentiment\"],\n",
    "            df_new[df_new[\"bible\"] == bible][\"annotator_sentiment_mode\"],\n",
    "        )\n",
    "    )\n",
    "\n",
    "plt.bar(bibles.keys(), bible_accuracies)\n",
    "plt.xlabel(\"Bible\")\n",
    "plt.ylabel(\"Accuracy Score\")\n",
    "plt.title(\"Sentiment Accuracy Score by Bible\")\n",
    "plt.ylim(0, 1)\n",
    "plt.show()"
   ]
  },
  {
   "cell_type": "code",
   "execution_count": 105,
   "metadata": {},
   "outputs": [
    {
     "data": {
      "text/html": [
       "<div>\n",
       "<style scoped>\n",
       "    .dataframe tbody tr th:only-of-type {\n",
       "        vertical-align: middle;\n",
       "    }\n",
       "\n",
       "    .dataframe tbody tr th {\n",
       "        vertical-align: top;\n",
       "    }\n",
       "\n",
       "    .dataframe thead th {\n",
       "        text-align: right;\n",
       "    }\n",
       "</style>\n",
       "<table border=\"1\" class=\"dataframe\">\n",
       "  <thead>\n",
       "    <tr style=\"text-align: right;\">\n",
       "      <th></th>\n",
       "      <th>bible</th>\n",
       "      <th>chunk</th>\n",
       "      <th>olivia</th>\n",
       "      <th>river</th>\n",
       "      <th>gerardo</th>\n",
       "      <th>nick</th>\n",
       "      <th>cameron</th>\n",
       "      <th>bible_sentiment</th>\n",
       "      <th>annotator_sentiment_mode</th>\n",
       "      <th>annotator_sentiment_avg</th>\n",
       "    </tr>\n",
       "  </thead>\n",
       "  <tbody>\n",
       "    <tr>\n",
       "      <th>0</th>\n",
       "      <td>asv</td>\n",
       "      <td>2556</td>\n",
       "      <td>3</td>\n",
       "      <td>2</td>\n",
       "      <td>1</td>\n",
       "      <td>3</td>\n",
       "      <td>3</td>\n",
       "      <td>1</td>\n",
       "      <td>3</td>\n",
       "      <td>2</td>\n",
       "    </tr>\n",
       "    <tr>\n",
       "      <th>1</th>\n",
       "      <td>asv</td>\n",
       "      <td>10127</td>\n",
       "      <td>3</td>\n",
       "      <td>3</td>\n",
       "      <td>3</td>\n",
       "      <td>3</td>\n",
       "      <td>3</td>\n",
       "      <td>1</td>\n",
       "      <td>3</td>\n",
       "      <td>3</td>\n",
       "    </tr>\n",
       "    <tr>\n",
       "      <th>2</th>\n",
       "      <td>asv</td>\n",
       "      <td>9900</td>\n",
       "      <td>2</td>\n",
       "      <td>2</td>\n",
       "      <td>1</td>\n",
       "      <td>2</td>\n",
       "      <td>2</td>\n",
       "      <td>2</td>\n",
       "      <td>2</td>\n",
       "      <td>2</td>\n",
       "    </tr>\n",
       "    <tr>\n",
       "      <th>3</th>\n",
       "      <td>asv</td>\n",
       "      <td>3951</td>\n",
       "      <td>2</td>\n",
       "      <td>2</td>\n",
       "      <td>3</td>\n",
       "      <td>2</td>\n",
       "      <td>2</td>\n",
       "      <td>2</td>\n",
       "      <td>2</td>\n",
       "      <td>2</td>\n",
       "    </tr>\n",
       "    <tr>\n",
       "      <th>4</th>\n",
       "      <td>asv</td>\n",
       "      <td>3840</td>\n",
       "      <td>3</td>\n",
       "      <td>3</td>\n",
       "      <td>3</td>\n",
       "      <td>3</td>\n",
       "      <td>1</td>\n",
       "      <td>1</td>\n",
       "      <td>3</td>\n",
       "      <td>2</td>\n",
       "    </tr>\n",
       "    <tr>\n",
       "      <th>...</th>\n",
       "      <td>...</td>\n",
       "      <td>...</td>\n",
       "      <td>...</td>\n",
       "      <td>...</td>\n",
       "      <td>...</td>\n",
       "      <td>...</td>\n",
       "      <td>...</td>\n",
       "      <td>...</td>\n",
       "      <td>...</td>\n",
       "      <td>...</td>\n",
       "    </tr>\n",
       "    <tr>\n",
       "      <th>85</th>\n",
       "      <td>wmb</td>\n",
       "      <td>4236</td>\n",
       "      <td>3</td>\n",
       "      <td>3</td>\n",
       "      <td>1</td>\n",
       "      <td>3</td>\n",
       "      <td>3</td>\n",
       "      <td>1</td>\n",
       "      <td>3</td>\n",
       "      <td>2</td>\n",
       "    </tr>\n",
       "    <tr>\n",
       "      <th>86</th>\n",
       "      <td>wmb</td>\n",
       "      <td>5307</td>\n",
       "      <td>3</td>\n",
       "      <td>3</td>\n",
       "      <td>3</td>\n",
       "      <td>3</td>\n",
       "      <td>3</td>\n",
       "      <td>3</td>\n",
       "      <td>3</td>\n",
       "      <td>3</td>\n",
       "    </tr>\n",
       "    <tr>\n",
       "      <th>87</th>\n",
       "      <td>wmb</td>\n",
       "      <td>9942</td>\n",
       "      <td>3</td>\n",
       "      <td>2</td>\n",
       "      <td>2</td>\n",
       "      <td>1</td>\n",
       "      <td>1</td>\n",
       "      <td>1</td>\n",
       "      <td>1</td>\n",
       "      <td>2</td>\n",
       "    </tr>\n",
       "    <tr>\n",
       "      <th>88</th>\n",
       "      <td>wmb</td>\n",
       "      <td>4226</td>\n",
       "      <td>3</td>\n",
       "      <td>3</td>\n",
       "      <td>1</td>\n",
       "      <td>3</td>\n",
       "      <td>3</td>\n",
       "      <td>1</td>\n",
       "      <td>3</td>\n",
       "      <td>2</td>\n",
       "    </tr>\n",
       "    <tr>\n",
       "      <th>89</th>\n",
       "      <td>wmb</td>\n",
       "      <td>9476</td>\n",
       "      <td>1</td>\n",
       "      <td>2</td>\n",
       "      <td>1</td>\n",
       "      <td>1</td>\n",
       "      <td>2</td>\n",
       "      <td>1</td>\n",
       "      <td>1</td>\n",
       "      <td>1</td>\n",
       "    </tr>\n",
       "  </tbody>\n",
       "</table>\n",
       "<p>90 rows × 10 columns</p>\n",
       "</div>"
      ],
      "text/plain": [
       "   bible  chunk  olivia  river  gerardo  nick  cameron  bible_sentiment  \\\n",
       "0    asv   2556       3      2        1     3        3                1   \n",
       "1    asv  10127       3      3        3     3        3                1   \n",
       "2    asv   9900       2      2        1     2        2                2   \n",
       "3    asv   3951       2      2        3     2        2                2   \n",
       "4    asv   3840       3      3        3     3        1                1   \n",
       "..   ...    ...     ...    ...      ...   ...      ...              ...   \n",
       "85   wmb   4236       3      3        1     3        3                1   \n",
       "86   wmb   5307       3      3        3     3        3                3   \n",
       "87   wmb   9942       3      2        2     1        1                1   \n",
       "88   wmb   4226       3      3        1     3        3                1   \n",
       "89   wmb   9476       1      2        1     1        2                1   \n",
       "\n",
       "    annotator_sentiment_mode  annotator_sentiment_avg  \n",
       "0                          3                        2  \n",
       "1                          3                        3  \n",
       "2                          2                        2  \n",
       "3                          2                        2  \n",
       "4                          3                        2  \n",
       "..                       ...                      ...  \n",
       "85                         3                        2  \n",
       "86                         3                        3  \n",
       "87                         1                        2  \n",
       "88                         3                        2  \n",
       "89                         1                        1  \n",
       "\n",
       "[90 rows x 10 columns]"
      ]
     },
     "execution_count": 105,
     "metadata": {},
     "output_type": "execute_result"
    }
   ],
   "source": [
    "df_new[\"annotator_sentiment_avg\"] = (\n",
    "    df_new.iloc[:, 2:-2].mean(axis=1).round().astype(\"int64\")\n",
    ")\n",
    "df_new"
   ]
  },
  {
   "cell_type": "code",
   "execution_count": 106,
   "metadata": {},
   "outputs": [
    {
     "data": {
      "image/png": "[encoded data removed]",
      "text/plain": [
       "<Figure size 640x480 with 1 Axes>"
      ]
     },
     "metadata": {},
     "output_type": "display_data"
    }
   ],
   "source": [
    "bible_accuracies = []\n",
    "for bible in bibles:\n",
    "    bible_accuracies.append(\n",
    "        accuracy_score(\n",
    "            df_new[df_new[\"bible\"] == bible][\"bible_sentiment\"],\n",
    "            df_new[df_new[\"bible\"] == bible][\"annotator_sentiment_avg\"],\n",
    "        )\n",
    "    )\n",
    "\n",
    "plt.bar(bibles.keys(), bible_accuracies)\n",
    "plt.xlabel(\"Bible\")\n",
    "plt.ylabel(\"Accuracy Score\")\n",
    "plt.title(\"Sentiment Accuracy Score by Bible\")\n",
    "plt.ylim(0, 1)\n",
    "plt.show()"
   ]
  },
  {
   "cell_type": "code",
   "execution_count": 107,
   "metadata": {},
   "outputs": [
    {
     "name": "stdout",
     "output_type": "stream",
     "text": [
      "0.3\n",
      "0.7\n",
      "0.48\n",
      "0.4\n",
      "0.6\n"
     ]
    }
   ],
   "source": [
    "for bible in bibles:\n",
    "    print(\n",
    "        accuracy_score(\n",
    "            df_new[df_new[\"bible\"] == bible][\"bible_sentiment\"],\n",
    "            df_new[df_new[\"bible\"] == bible][\"annotator_sentiment_avg\"],\n",
    "        )\n",
    "    )"
   ]
  },
  {
   "cell_type": "code",
   "execution_count": 110,
   "metadata": {},
   "outputs": [
    {
     "data": {
      "text/plain": [
       "(0.0, 1.0)"
      ]
     },
     "execution_count": 110,
     "metadata": {},
     "output_type": "execute_result"
    },
    {
     "data": {
      "image/png": "[encoded data removed]",
      "text/plain": [
       "<Figure size 640x480 with 1 Axes>"
      ]
     },
     "metadata": {},
     "output_type": "display_data"
    }
   ],
   "source": [
    "# Compare bible sentiment to each annotator's sentiment\n",
    "annotator_accuracies = []\n",
    "for annotator in df_new.columns[2:-3]:\n",
    "    annotator_accuracies.append(\n",
    "        accuracy_score(df_new[\"bible_sentiment\"], df_new[annotator])\n",
    "    )\n",
    "\n",
    "plt.bar(df_new.columns[2:-3], annotator_accuracies)\n",
    "plt.xlabel(\"Annotator\")\n",
    "plt.ylabel(\"Accuracy Score\")\n",
    "plt.title(\"Sentiment Accuracy Score by Annotator\")\n",
    "plt.ylim(0, 1)"
   ]
  },
  {
   "cell_type": "code",
   "execution_count": 135,
   "metadata": {},
   "outputs": [
    {
     "name": "stdout",
     "output_type": "stream",
     "text": [
      "1    7400\n",
      "2    1745\n",
      "3    1257\n",
      "Name: sentiment, dtype: int64\n",
      "1    5297\n",
      "3    2843\n",
      "2    2223\n",
      "Name: sentiment, dtype: int64\n",
      "1    7057\n",
      "2    1903\n",
      "3    1408\n",
      "Name: sentiment, dtype: int64\n",
      "1    7711\n",
      "3    2415\n",
      "2    2371\n",
      "0       3\n",
      "Name: sentiment, dtype: int64\n",
      "1    6570\n",
      "2    1960\n",
      "3    1836\n",
      "Name: sentiment, dtype: int64\n"
     ]
    }
   ],
   "source": [
    "bible_sentiments = {\n",
    "    \"asv\": {\"positive\": 0, \"negative\": 0, \"neutral\": 0},\n",
    "    \"fbv\": {\"positive\": 0, \"negative\": 0, \"neutral\": 0},\n",
    "    \"kjv\": {\"positive\": 0, \"negative\": 0, \"neutral\": 0},\n",
    "    \"web\": {\"positive\": 0, \"negative\": 0, \"neutral\": 0},\n",
    "    \"wmb\": {\"positive\": 0, \"negative\": 0, \"neutral\": 0},\n",
    "}\n",
    "\n",
    "total_sentiment = {\n",
    "    \"asv\": 0,\n",
    "    \"fbv\": 0,\n",
    "    \"kjv\": 0,\n",
    "    \"web\": 0,\n",
    "    \"wmb\": 0,\n",
    "}\n",
    "\n",
    "for bible in bibles:\n",
    "    bible_df = pd.read_csv(bibles[bible])\n",
    "    # Get the total count of each sentiment\n",
    "    sentiment_counts = bible_df[\"sentiment\"].value_counts()\n",
    "    print(sentiment_counts)\n",
    "    # bible_sentiments[bible].append(sentiment_counts[1] / sentiment_counts.sum())\n",
    "    bible_sentiments[bible][\"positive\"] = sentiment_counts[2] / sentiment_counts.sum()\n",
    "    bible_sentiments[bible][\"negative\"] = sentiment_counts[3] / sentiment_counts.sum()\n",
    "    bible_sentiments[bible][\"neutral\"] = sentiment_counts[1] / sentiment_counts.sum()\n",
    "\n",
    "    total_sentiment[bible] = (sentiment_counts[2]) / (\n",
    "        sentiment_counts[2] + sentiment_counts[3]\n",
    "    )"
   ]
  },
  {
   "cell_type": "code",
   "execution_count": 136,
   "metadata": {},
   "outputs": [
    {
     "data": {
      "image/png": "[encoded data removed]",
      "text/plain": [
       "<Figure size 640x480 with 1 Axes>"
      ]
     },
     "metadata": {},
     "output_type": "display_data"
    }
   ],
   "source": [
    "# Graph the sentiment distribution for each bible\n",
    "bible_sentiments_df = pd.DataFrame(bible_sentiments)\n",
    "bible_sentiments_df.plot(kind=\"bar\")\n",
    "plt.xlabel(\"Sentiment\")\n",
    "plt.ylabel(\"Percentage\")\n",
    "plt.title(\"Sentiment Distribution by Bible\")\n",
    "plt.show()"
   ]
  },
  {
   "cell_type": "code",
   "execution_count": 140,
   "metadata": {},
   "outputs": [
    {
     "data": {
      "image/png": "[encoded data removed]",
      "text/plain": [
       "<Figure size 640x480 with 1 Axes>"
      ]
     },
     "metadata": {},
     "output_type": "display_data"
    }
   ],
   "source": [
    "# Graph the total sentiment for each bible\n",
    "plt.bar(bibles.keys(), total_sentiment.values())\n",
    "plt.xlabel(\"Bible\")\n",
    "plt.ylabel(\"Percentage\")\n",
    "plt.title(\"Positive Sentiment by Bible\")\n",
    "plt.ylim(0, 1)\n",
    "plt.show()"
   ]
  },
  {
   "cell_type": "code",
   "execution_count": null,
   "metadata": {},
   "outputs": [],
   "source": []
  }
 ],
 "metadata": {
  "kernelspec": {
   "display_name": "base",
   "language": "python",
   "name": "python3"
  },
  "language_info": {
   "codemirror_mode": {
    "name": "ipython",
    "version": 3
   },
   "file_extension": ".py",
   "mimetype": "text/x-python",
   "name": "python",
   "nbconvert_exporter": "python",
   "pygments_lexer": "ipython3",
   "version": "3.11.5"
  }
 },
 "nbformat": 4,
 "nbformat_minor": 2
}
