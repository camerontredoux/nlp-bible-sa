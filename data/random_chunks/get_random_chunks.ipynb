{
 "cells": [
  {
   "cell_type": "code",
   "execution_count": 1,
   "metadata": {},
   "outputs": [],
   "source": [
    "import pandas as pd"
   ]
  },
  {
   "cell_type": "code",
   "execution_count": 2,
   "metadata": {},
   "outputs": [],
   "source": [
    "MODERN_BIBLES = [\"asv.csv\", \"fbv.csv\", \"web.csv\", \"wmb.csv\"]"
   ]
  },
  {
   "cell_type": "code",
   "execution_count": 3,
   "metadata": {},
   "outputs": [],
   "source": [
    "# make csv with 10 random chunks for each modern bible\n",
    "for bible in MODERN_BIBLES:\n",
    "    df = pd.read_csv(f\"../bibles_chunked/{bible}\")\n",
    "    df.sample(10).to_csv(f\"{bible}\", index=False)"
   ]
  },
  {
   "cell_type": "code",
   "execution_count": 4,
   "metadata": {},
   "outputs": [],
   "source": [
    "# 50 chunks for the KJV\n",
    "df = pd.read_csv(\"../bibles_chunked/kjv.csv\")\n",
    "df.sample(50).to_csv(\"kjv.csv\", index=False)"
   ]
  }
 ],
 "metadata": {
  "kernelspec": {
   "display_name": "school",
   "language": "python",
   "name": "python3"
  },
  "language_info": {
   "codemirror_mode": {
    "name": "ipython",
    "version": 3
   },
   "file_extension": ".py",
   "mimetype": "text/x-python",
   "name": "python",
   "nbconvert_exporter": "python",
   "pygments_lexer": "ipython3",
   "version": "3.12.2"
  }
 },
 "nbformat": 4,
 "nbformat_minor": 2
}
