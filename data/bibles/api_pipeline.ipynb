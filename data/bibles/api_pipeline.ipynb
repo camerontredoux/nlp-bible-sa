{
 "cells": [
  {
   "cell_type": "code",
   "execution_count": 1,
   "metadata": {},
   "outputs": [],
   "source": [
    "import requests, re, jmespath\n",
    "from pandas import DataFrame"
   ]
  },
  {
   "cell_type": "code",
   "execution_count": null,
   "metadata": {},
   "outputs": [],
   "source": [
    "# find api key in google drive\n",
    "API_KEY = \"\"\n",
    "\n",
    "baseURL = \"https://api.scripture.api.bible/v1\"\n",
    "headers = {\"api-key\": API_KEY}"
   ]
  },
  {
   "cell_type": "code",
   "execution_count": null,
   "metadata": {},
   "outputs": [],
   "source": [
    "def pipeline(bibleID) -> DataFrame:\n",
    "    allVerses = []\n",
    "\n",
    "    # request bible books with chapter info\n",
    "    url = f\"{baseURL}/bibles/{bibleID}/books\"\n",
    "    response = requests.get(url, headers=headers, params={\"include-chapters\": True}).json()\n",
    "\n",
    "    # extract chapter IDs excluding intro chapters\n",
    "    chapIDs = jmespath.search(\"data[].chapters[?number!='intro'].id[]\", response)\n",
    "\n",
    "    # get verses for each chapter\n",
    "    for chapID in chapIDs:\n",
    "\n",
    "        # request chapter info\n",
    "        url = f\"{baseURL}/bibles/{bibleID}/chapters/{chapID}\"\n",
    "        response = requests.get(url, headers=headers, params={\"content-type\": \"text\"}).json()\n",
    "        print(response)\n",
    "\n",
    "        # str of all verses in the chapter\n",
    "        verses = response[\"data\"][\"content\"]\n",
    "\n",
    "        # split into individual verses\n",
    "        verseList = re.split(r\"\\s*\\[\\d+\\]\\s*\", verses.strip())\n",
    "        verseList = [v.strip() for v in verseList if v]\n",
    "\n",
    "        # make an entry for each verse\n",
    "        for i, verse in enumerate(verseList):\n",
    "            allVerses.append({\"citation\": f\"{response['data']['id']}.{i+1}\", \"verse\": verse})\n",
    "\n",
    "    return DataFrame(allVerses)"
   ]
  },
  {
   "cell_type": "markdown",
   "metadata": {},
   "source": [
    "### make csv for all the bibles\n",
    "citation, verse\\\n",
    "GEN.1.1, In the begin..."
   ]
  },
  {
   "cell_type": "code",
   "execution_count": null,
   "metadata": {},
   "outputs": [],
   "source": [
    "bibleIDs = {\n",
    "    \"ASV\": \"06125adad2d5898a-01\",\n",
    "    \"WEB\": \"72f4e6dc683324df-01\",\n",
    "    \"FBV\": \"65eec8e0b60e656b-01\",\n",
    "    \"WMB\": \"f72b840c855f362c-04\",\n",
    "    \"KJV\": \"de4e12af7f28f599-02\",\n",
    "}"
   ]
  },
  {
   "cell_type": "code",
   "execution_count": null,
   "metadata": {},
   "outputs": [],
   "source": [
    "asv = pipeline(bibleIDs[\"ASV\"])\n",
    "asv.to_csv(\"asv.csv\", index=False)"
   ]
  },
  {
   "cell_type": "code",
   "execution_count": null,
   "metadata": {},
   "outputs": [],
   "source": [
    "web = pipeline(bibleIDs[\"WEB\"])\n",
    "web.to_csv(\"web.csv\", index=False)"
   ]
  },
  {
   "cell_type": "code",
   "execution_count": null,
   "metadata": {},
   "outputs": [],
   "source": [
    "wmb = pipeline(bibleIDs[\"WMB\"])\n",
    "wmb.to_csv(\"wmb.csv\", index=False)"
   ]
  },
  {
   "cell_type": "code",
   "execution_count": null,
   "metadata": {},
   "outputs": [],
   "source": [
    "fbv = pipeline(bibleIDs[\"FBV\"])\n",
    "fbv.to_csv(\"fbv.csv\", index=False)"
   ]
  },
  {
   "cell_type": "code",
   "execution_count": null,
   "metadata": {},
   "outputs": [],
   "source": [
    "kjv = pipeline(bibleIDs[\"KJV\"])\n",
    "kjv.to_csv(\"kjv.csv\", index=False)"
   ]
  }
 ],
 "metadata": {
  "kernelspec": {
   "display_name": ".venv",
   "language": "python",
   "name": "python3"
  },
  "language_info": {
   "codemirror_mode": {
    "name": "ipython",
    "version": 3
   },
   "file_extension": ".py",
   "mimetype": "text/x-python",
   "name": "python",
   "nbconvert_exporter": "python",
   "pygments_lexer": "ipython3",
   "version": "3.12.2"
  }
 },
 "nbformat": 4,
 "nbformat_minor": 2
}
