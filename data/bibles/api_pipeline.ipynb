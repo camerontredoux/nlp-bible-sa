{
 "cells": [
  {
   "cell_type": "code",
   "execution_count": null,
   "metadata": {},
   "outputs": [],
   "source": [
    "import requests, re, jmespath, csv"
   ]
  },
  {
   "cell_type": "code",
   "execution_count": null,
   "metadata": {},
   "outputs": [],
   "source": [
    "# find api key in google drive\n",
    "API_KEY = \"\"\n",
    "\n",
    "baseURL = \"https://api.scripture.api.bible/v1\"\n",
    "headers = {\"api-key\": API_KEY}"
   ]
  },
  {
   "cell_type": "code",
   "execution_count": null,
   "metadata": {},
   "outputs": [],
   "source": [
    "def pipeline(bibleID, bibleName):\n",
    "\n",
    "    # the most verses you can get at once is all verses of a chapter\n",
    "    # so here we get the chapter IDs for each chapter in each book (excluding intros)\n",
    "    # we use these IDs to request the verses for each chapter\n",
    "    try:\n",
    "        url = f\"{baseURL}/bibles/{bibleID}/books\"\n",
    "        response = requests.get(url, headers=headers, params={\"include-chapters\": True})\n",
    "        response.raise_for_status()  # exception if status not 200\n",
    "        chapIDs = jmespath.search(\"data[].chapters[?number!='intro'].id[]\", response.json())\n",
    "    except requests.exceptions.RequestException as e:\n",
    "        print(f\"something went wrong\\n{e}\")\n",
    "        return\n",
    "\n",
    "    # make a csv\n",
    "    with open(f\"{bibleName}.csv\", \"w\") as f:\n",
    "        writer = csv.DictWriter(f, fieldnames=[\"citation\", \"verse\"])\n",
    "        writer.writeheader()\n",
    "\n",
    "        # get verses\n",
    "        for chapID in chapIDs:\n",
    "            try:\n",
    "                # request chapter info (includes verse text)\n",
    "                url = f\"{baseURL}/bibles/{bibleID}/chapters/{chapID}\"\n",
    "                response = requests.get(url, headers=headers, params={\"content-type\": \"text\"})\n",
    "                response.raise_for_status()  # exception if status not 200\n",
    "            except requests.exceptions.RequestException as e:\n",
    "                print(f\"something went wrong\\n{e}\")\n",
    "                return\n",
    "\n",
    "            # str of all verses in the chapter\n",
    "            response = response.json()\n",
    "            verses = response[\"data\"][\"content\"]\n",
    "\n",
    "            # split into individual verses\n",
    "            verseList = re.split(r\"\\s*\\[\\d+\\]\\s*\", verses.strip())\n",
    "            verseList = [v.strip() for v in verseList if v]\n",
    "\n",
    "            # write a line to the csv for each verse\n",
    "            for i, verse in enumerate(verseList):\n",
    "                writer.writerow({\"citation\": f\"{response['data']['id']}.{i+1}\", \"verse\": verse})\n",
    "                print(f\"wrote: {verse}\")"
   ]
  },
  {
   "cell_type": "markdown",
   "metadata": {},
   "source": [
    "### make csv for all the bibles"
   ]
  },
  {
   "cell_type": "code",
   "execution_count": null,
   "metadata": {},
   "outputs": [],
   "source": [
    "bibleIDs = {\n",
    "    \"ASV\": \"06125adad2d5898a-01\",\n",
    "    \"WEB\": \"72f4e6dc683324df-01\",\n",
    "    \"FBV\": \"65eec8e0b60e656b-01\",\n",
    "    \"WMB\": \"f72b840c855f362c-04\",\n",
    "    \"KJV\": \"de4e12af7f28f599-02\",\n",
    "}\n",
    "\n",
    "\n",
    "## uncomment to run\n",
    "\n",
    "asv = pipeline(bibleIDs[\"ASV\"], \"asv\")\n",
    "# web = pipeline(bibleIDs[\"WEB\"], \"web\")\n",
    "# fbv = pipeline(bibleIDs[\"FBV\"], \"fbv\")\n",
    "# wmb = pipeline(bibleIDs[\"WMB\"], \"wmb\")\n",
    "# kjv = pipeline(bibleIDs[\"KJV\"], \"kjv\")"
   ]
  }
 ],
 "metadata": {
  "kernelspec": {
   "display_name": ".venv",
   "language": "python",
   "name": "python3"
  },
  "language_info": {
   "codemirror_mode": {
    "name": "ipython",
    "version": 3
   },
   "file_extension": ".py",
   "mimetype": "text/x-python",
   "name": "python",
   "nbconvert_exporter": "python",
   "pygments_lexer": "ipython3",
   "version": "3.12.2"
  }
 },
 "nbformat": 4,
 "nbformat_minor": 2
}
