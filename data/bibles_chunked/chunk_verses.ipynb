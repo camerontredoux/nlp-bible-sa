{
 "cells": [
  {
   "cell_type": "code",
   "execution_count": 29,
   "metadata": {},
   "outputs": [],
   "source": [
    "from pandas import DataFrame, read_csv\n",
    "import glob, os"
   ]
  },
  {
   "cell_type": "code",
   "execution_count": 34,
   "metadata": {},
   "outputs": [],
   "source": [
    "def pipeine(df: DataFrame) -> DataFrame:\n",
    "\n",
    "    # group by every 3 verses\n",
    "    new_df = (\n",
    "        df.groupby(df.index // 3)\n",
    "        .agg({\"citation\": \"first\", \"verse\": \" \".join})\n",
    "        .rename(columns={\"citation\": \"start_citation\", \"verse\": \"text\"})\n",
    "    )\n",
    "    new_df.index.name = \"chunk\"\n",
    "\n",
    "    return new_df"
   ]
  },
  {
   "cell_type": "code",
   "execution_count": 36,
   "metadata": {},
   "outputs": [],
   "source": [
    "# chunk all the bibles\n",
    "\n",
    "bibles = glob.glob(\"../bibles/*.csv\")\n",
    "\n",
    "for bible in bibles:\n",
    "    df = read_csv(bible)\n",
    "    new_df = pipeine(df)\n",
    "    new_df.to_csv(os.path.basename(bible))"
   ]
  }
 ],
 "metadata": {
  "kernelspec": {
   "display_name": "school",
   "language": "python",
   "name": "python3"
  },
  "language_info": {
   "codemirror_mode": {
    "name": "ipython",
    "version": 3
   },
   "file_extension": ".py",
   "mimetype": "text/x-python",
   "name": "python",
   "nbconvert_exporter": "python",
   "pygments_lexer": "ipython3",
   "version": "3.12.2"
  }
 },
 "nbformat": 4,
 "nbformat_minor": 2
}
