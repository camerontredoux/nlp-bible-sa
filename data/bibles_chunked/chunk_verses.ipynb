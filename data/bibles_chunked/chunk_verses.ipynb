{
 "cells": [
  {
   "cell_type": "code",
   "execution_count": 29,
   "metadata": {},
   "outputs": [],
   "source": [
    "from pandas import DataFrame, read_csv\n",
    "import glob, os"
   ]
  },
  {
   "cell_type": "code",
   "execution_count": null,
   "metadata": {},
   "outputs": [],
   "source": [
    "def chunker(df: DataFrame) -> DataFrame:\n",
    "    new_df = (\n",
    "        # group by every 3 verses\n",
    "        df.groupby(df.index // 3)\n",
    "        # citiation: first cit. in group\n",
    "        # verse: join all verses\n",
    "        .agg({\"citation\": \"first\", \"verse\": \" \".join})\n",
    "        # rename columns\n",
    "        .rename(columns={\"citation\": \"start_citation\", \"verse\": \"text\"})\n",
    "    )\n",
    "    # rename index\n",
    "    new_df.index.name = \"chunk\"\n",
    "    return new_df"
   ]
  },
  {
   "cell_type": "code",
   "execution_count": 36,
   "metadata": {},
   "outputs": [],
   "source": [
    "# get all the bibles\n",
    "bibles = glob.glob(\"../bibles/*.csv\")\n",
    "\n",
    "# chunk all the bibles\n",
    "for bible in bibles:\n",
    "    df = read_csv(bible)\n",
    "    new_df = chunker(df)\n",
    "    new_df.to_csv(os.path.basename(bible))"
   ]
  }
 ],
 "metadata": {
  "kernelspec": {
   "display_name": "school",
   "language": "python",
   "name": "python3"
  },
  "language_info": {
   "codemirror_mode": {
    "name": "ipython",
    "version": 3
   },
   "file_extension": ".py",
   "mimetype": "text/x-python",
   "name": "python",
   "nbconvert_exporter": "python",
   "pygments_lexer": "ipython3",
   "version": "3.12.2"
  }
 },
 "nbformat": 4,
 "nbformat_minor": 2
}
