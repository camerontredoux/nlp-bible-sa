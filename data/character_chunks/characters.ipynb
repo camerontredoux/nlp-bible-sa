{
 "cells": [
  {
   "cell_type": "code",
   "execution_count": 19,
   "metadata": {},
   "outputs": [],
   "source": [
    "import pandas as pd\n",
    "import csv\n",
    "\n",
    "def print_csv(file): # helper function to debug\n",
    "    with open(file, 'r') as csvfile:\n",
    "        csv_reader = csv.reader(csvfile)\n",
    "        for row in csv_reader:\n",
    "            print(row)"
   ]
  },
  {
   "cell_type": "code",
   "execution_count": 20,
   "metadata": {},
   "outputs": [],
   "source": [
    "character_names = [\n",
    "    \"Aaron\", \"Abel\", \"Abigail\", \"Abraham\", \"Absalom\", \"Achan\", \"Adam\", \"Adonijah\", \n",
    "    \"Amos\", \"Andrew\", \"Anna\", \"Apollos\", \"Aquila\", \"Asa\", \"Asher\", \"Barnabas\", \n",
    "    \"Bartholomew\", \"Boaz\", \"Cain\", \"Cornelius\", \"Cyrus\", \"Daniel\", \"David\", \"Deborah\", \n",
    "    \"Elijah\", \"Elisha\", \"Elizabeth\", \"Esau\", \"Esther\", \"Eve\", \"Ezekiel\", \"Felix\", \n",
    "    \"Gideon\", \"Hannah\", \"Hiram\", \"Hosea\", \"Huldah\", \"Isaac\", \"Isaiah\", \"Jacob\", \n",
    "    \"James\", \"Japheth\", \"Jared\", \"Jairus\", \"Jeremaih\", \"Jesus\", \"Job\", \"Joel\", \n",
    "    \"John\", \"John the Baptist\", \"Jonah\", \"Jonathan\", \"Joseph\", \"Joshua\", \"Josiah\", \n",
    "    \"Judah\", \"Jude\", \"Junia\", \"Lazarus\", \"Levi\", \"Lot\", \"Luke\", \"Lydia\", \"Manasseh\", \n",
    "    \"Martha\", \"Mary\", \"Mary Magdalene\", \"Matthias\", \"Melchizedek\", \"Micah\", \"Miriam\", \n",
    "    \"Mordecai\", \"Moses\", \"Nahum\", \"Nathan\", \"Nathanael\", \"Nehemiah\", \"Nicodemus\", \n",
    "    \"Noah\", \"Obadiah\", \"Paul\", \"Peter\", \"Philip\", \"Priscilla\", \"Rachel\", \"Rahab\", \n",
    "    \"Rhoda\", \"Ruth\", \"Samson\", \"Samuel\", \"Sarah\", \"Saul\", \"Seth\", \"Shem\", \"Silas\", \n",
    "    \"Simon\", \"Solomon\", \"Thomas\", \"Zechariah\"\n",
    "]\n",
    "\n",
    "bible_paths = {\n",
    "    \"asv\": \"../bibles_chunked/asv.csv\",\n",
    "    \"fbv\": \"../bibles_chunked/fbv.csv\",\n",
    "    \"web\": \"../bibles_chunked/web.csv\",\n",
    "    \"wmb\": \"../bibles_chunked/wmb.csv\",\n",
    "    \"kjv\": \"../bibles_chunked/kjv.csv\"\n",
    "}\n",
    "\n",
    "test_paths = {\n",
    "    \"asv\": \"../../manual_annotation/nick/asv.csv\",\n",
    "    \"fbv\": \"../../manual_annotation/nick/fbv.csv\",\n",
    "    \"web\": \"../../manual_annotation/nick/web.csv\",\n",
    "    \"wmb\": \"../../manual_annotation/nick/wmb.csv\",\n",
    "    \"kjv\": \"../../manual_annotation/nick/kjv.csv\"\n",
    "}"
   ]
  },
  {
   "cell_type": "code",
   "execution_count": 21,
   "metadata": {},
   "outputs": [],
   "source": [
    "# checks if chunk mentions any of the above names\n",
    "def mentions_character(text):\n",
    "    for name in character_names:\n",
    "        if name in text:\n",
    "            return True\n",
    "    return False\n",
    "\n",
    "# filter chunks with mentions_character() helper function\n",
    "def filter_chunks(df):\n",
    "    return df[df['text'].apply(mentions_character)]\n",
    "\n",
    "# make csv with 10 random chunks (mentioning specific characters) for each bible\n",
    "def generate_filtered_csv(character_names, num_chunks):\n",
    "    for bible_name, path in bible_paths.items():\n",
    "        df = pd.read_csv(path)\n",
    "        filtered_df = filter_chunks(df)\n",
    "        sampled_df = filtered_df.sample(num_chunks)\n",
    "        sampled_df.to_csv(f\"{bible_name}.csv\", index=False) # export\n",
    "\n",
    "def filter_by_character(character_names):\n",
    "    \"\"\"\n",
    "    filters bible chunks mentioning any character and creates a table with columns \n",
    "    for each bible translation containing chunk and respective sentiment values.\n",
    "    \"\"\"\n",
    "    data = {}\n",
    "    for bible_name, path in test_paths.items():\n",
    "        df = pd.read_csv(path)\n",
    "        filtered_df = filter_chunks(df)\n",
    "        data[bible_name] = filtered_df[['chunk', 'sentiment']]\n",
    "    result_df = pd.DataFrame(data)\n",
    "    return result_df\n",
    "\n",
    "def filter_by_char_no_kjv(character_names):\n",
    "    ''' same as above but omitting KJV '''\n",
    "    data = {}\n",
    "    for bible_name, path in test_paths.items():\n",
    "        if bible_name != 'kjv':\n",
    "            df = pd.read_csv(path)\n",
    "            filtered_df = filter_chunks(df)\n",
    "            data[bible_name] = filtered_df[['chunk', 'sentiment']]\n",
    "    result_df = pd.DataFrame(data)\n",
    "    return result_df"
   ]
  },
  {
   "cell_type": "code",
   "execution_count": 22,
   "metadata": {},
   "outputs": [],
   "source": [
    "# generate_filtered_csv(character_names, num_chunks=10)\n",
    "# filter_by_character(character_names)\n",
    "# print_csv(\"../../manual_annotation/nick/asv.csv\")\n"
   ]
  }
 ],
 "metadata": {
  "kernelspec": {
   "display_name": "school",
   "language": "python",
   "name": "python3"
  },
  "language_info": {
   "codemirror_mode": {
    "name": "ipython",
    "version": 3
   },
   "file_extension": ".py",
   "mimetype": "text/x-python",
   "name": "python",
   "nbconvert_exporter": "python",
   "pygments_lexer": "ipython3",
   "version": "3.12.3"
  }
 },
 "nbformat": 4,
 "nbformat_minor": 2
}
